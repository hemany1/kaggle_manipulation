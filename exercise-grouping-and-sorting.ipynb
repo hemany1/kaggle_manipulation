{
 "cells": [
  {
   "cell_type": "markdown",
   "id": "8a2d63df",
   "metadata": {
    "papermill": {
     "duration": 0.00694,
     "end_time": "2022-09-14T17:30:00.273600",
     "exception": false,
     "start_time": "2022-09-14T17:30:00.266660",
     "status": "completed"
    },
    "tags": []
   },
   "source": [
    "**This notebook is an exercise in the [Pandas](https://www.kaggle.com/learn/pandas) course.  You can reference the tutorial at [this link](https://www.kaggle.com/residentmario/grouping-and-sorting).**\n",
    "\n",
    "---\n"
   ]
  },
  {
   "cell_type": "markdown",
   "id": "19868c04",
   "metadata": {
    "papermill": {
     "duration": 0.005345,
     "end_time": "2022-09-14T17:30:00.284700",
     "exception": false,
     "start_time": "2022-09-14T17:30:00.279355",
     "status": "completed"
    },
    "tags": []
   },
   "source": [
    "# Introduction\n",
    "\n",
    "In these exercises we'll apply groupwise analysis to our dataset.\n",
    "\n",
    "Run the code cell below to load the data before running the exercises."
   ]
  },
  {
   "cell_type": "code",
   "execution_count": 1,
   "id": "99e74119",
   "metadata": {
    "execution": {
     "iopub.execute_input": "2022-09-14T17:30:00.298160Z",
     "iopub.status.busy": "2022-09-14T17:30:00.297419Z",
     "iopub.status.idle": "2022-09-14T17:30:03.199680Z",
     "shell.execute_reply": "2022-09-14T17:30:03.198611Z"
    },
    "papermill": {
     "duration": 2.911977,
     "end_time": "2022-09-14T17:30:03.202225",
     "exception": false,
     "start_time": "2022-09-14T17:30:00.290248",
     "status": "completed"
    },
    "tags": []
   },
   "outputs": [
    {
     "name": "stdout",
     "output_type": "stream",
     "text": [
      "Setup complete.\n"
     ]
    }
   ],
   "source": [
    "import pandas as pd\n",
    "\n",
    "reviews = pd.read_csv(\"../input/wine-reviews/winemag-data-130k-v2.csv\", index_col=0)\n",
    "#pd.set_option(\"display.max_rows\", 5)\n",
    "\n",
    "from learntools.core import binder; binder.bind(globals())\n",
    "from learntools.pandas.grouping_and_sorting import *\n",
    "print(\"Setup complete.\")"
   ]
  },
  {
   "cell_type": "markdown",
   "id": "21e98722",
   "metadata": {
    "papermill": {
     "duration": 0.005719,
     "end_time": "2022-09-14T17:30:03.213957",
     "exception": false,
     "start_time": "2022-09-14T17:30:03.208238",
     "status": "completed"
    },
    "tags": []
   },
   "source": [
    "# Exercises"
   ]
  },
  {
   "cell_type": "markdown",
   "id": "c87c7bf5",
   "metadata": {
    "papermill": {
     "duration": 0.005532,
     "end_time": "2022-09-14T17:30:03.225705",
     "exception": false,
     "start_time": "2022-09-14T17:30:03.220173",
     "status": "completed"
    },
    "tags": []
   },
   "source": [
    "## 1.\n",
    "Who are the most common wine reviewers in the dataset? Create a `Series` whose index is the `taster_twitter_handle` category from the dataset, and whose values count how many reviews each person wrote."
   ]
  },
  {
   "cell_type": "code",
   "execution_count": 2,
   "id": "afa42458",
   "metadata": {
    "execution": {
     "iopub.execute_input": "2022-09-14T17:30:03.239050Z",
     "iopub.status.busy": "2022-09-14T17:30:03.238380Z",
     "iopub.status.idle": "2022-09-14T17:30:03.267118Z",
     "shell.execute_reply": "2022-09-14T17:30:03.265975Z"
    },
    "papermill": {
     "duration": 0.037861,
     "end_time": "2022-09-14T17:30:03.269354",
     "exception": false,
     "start_time": "2022-09-14T17:30:03.231493",
     "status": "completed"
    },
    "tags": []
   },
   "outputs": [
    {
     "data": {
      "application/javascript": [
       "parent.postMessage({\"jupyterEvent\": \"custom.exercise_interaction\", \"data\": {\"outcomeType\": 1, \"valueTowardsCompletion\": 0.16666666666666666, \"interactionType\": 1, \"questionType\": 1, \"questionId\": \"1_ReviewsWritten\", \"learnToolsVersion\": \"0.3.4\", \"failureMessage\": \"\", \"exceptionClass\": \"\", \"trace\": \"\"}}, \"*\")"
      ],
      "text/plain": [
       "<IPython.core.display.Javascript object>"
      ]
     },
     "metadata": {},
     "output_type": "display_data"
    },
    {
     "data": {
      "text/markdown": [
       "<span style=\"color:#33cc33\">Correct:</span> \n",
       "\n",
       "\n",
       "```python\n",
       "reviews_written = reviews.groupby('taster_twitter_handle').size()\n",
       "```\n",
       "or\n",
       "```python\n",
       "reviews_written = reviews.groupby('taster_twitter_handle').taster_twitter_handle.count()\n",
       "```\n"
      ],
      "text/plain": [
       "Correct: \n",
       "\n",
       "\n",
       "```python\n",
       "reviews_written = reviews.groupby('taster_twitter_handle').size()\n",
       "```\n",
       "or\n",
       "```python\n",
       "reviews_written = reviews.groupby('taster_twitter_handle').taster_twitter_handle.count()\n",
       "```"
      ]
     },
     "metadata": {},
     "output_type": "display_data"
    }
   ],
   "source": [
    "# Your code here\n",
    "reviews_written = reviews.groupby('taster_twitter_handle').taster_twitter_handle.count()\n",
    "\n",
    "# Check your answer\n",
    "q1.check()"
   ]
  },
  {
   "cell_type": "code",
   "execution_count": 3,
   "id": "5de0da71",
   "metadata": {
    "execution": {
     "iopub.execute_input": "2022-09-14T17:30:03.282805Z",
     "iopub.status.busy": "2022-09-14T17:30:03.282382Z",
     "iopub.status.idle": "2022-09-14T17:30:03.290429Z",
     "shell.execute_reply": "2022-09-14T17:30:03.289345Z"
    },
    "papermill": {
     "duration": 0.017207,
     "end_time": "2022-09-14T17:30:03.292561",
     "exception": false,
     "start_time": "2022-09-14T17:30:03.275354",
     "status": "completed"
    },
    "tags": []
   },
   "outputs": [
    {
     "data": {
      "application/javascript": [
       "parent.postMessage({\"jupyterEvent\": \"custom.exercise_interaction\", \"data\": {\"interactionType\": 3, \"questionType\": 1, \"questionId\": \"1_ReviewsWritten\", \"learnToolsVersion\": \"0.3.4\", \"valueTowardsCompletion\": 0.0, \"failureMessage\": \"\", \"exceptionClass\": \"\", \"trace\": \"\", \"outcomeType\": 4}}, \"*\")"
      ],
      "text/plain": [
       "<IPython.core.display.Javascript object>"
      ]
     },
     "metadata": {},
     "output_type": "display_data"
    },
    {
     "data": {
      "text/markdown": [
       "<span style=\"color:#33cc99\">Solution:</span> \n",
       "```python\n",
       "reviews_written = reviews.groupby('taster_twitter_handle').size()\n",
       "```\n",
       "or\n",
       "```python\n",
       "reviews_written = reviews.groupby('taster_twitter_handle').taster_twitter_handle.count()\n",
       "```\n"
      ],
      "text/plain": [
       "Solution: \n",
       "```python\n",
       "reviews_written = reviews.groupby('taster_twitter_handle').size()\n",
       "```\n",
       "or\n",
       "```python\n",
       "reviews_written = reviews.groupby('taster_twitter_handle').taster_twitter_handle.count()\n",
       "```"
      ]
     },
     "metadata": {},
     "output_type": "display_data"
    }
   ],
   "source": [
    "#q1.hint()\n",
    "q1.solution()"
   ]
  },
  {
   "cell_type": "markdown",
   "id": "f2675d68",
   "metadata": {
    "papermill": {
     "duration": 0.005901,
     "end_time": "2022-09-14T17:30:03.304574",
     "exception": false,
     "start_time": "2022-09-14T17:30:03.298673",
     "status": "completed"
    },
    "tags": []
   },
   "source": [
    "## 2.\n",
    "What is the best wine I can buy for a given amount of money? Create a `Series` whose index is wine prices and whose values is the maximum number of points a wine costing that much was given in a review. Sort the values by price, ascending (so that `4.0` dollars is at the top and `3300.0` dollars is at the bottom)."
   ]
  },
  {
   "cell_type": "code",
   "execution_count": 4,
   "id": "f0357aad",
   "metadata": {
    "execution": {
     "iopub.execute_input": "2022-09-14T17:30:03.318198Z",
     "iopub.status.busy": "2022-09-14T17:30:03.317807Z",
     "iopub.status.idle": "2022-09-14T17:30:03.332148Z",
     "shell.execute_reply": "2022-09-14T17:30:03.331081Z"
    },
    "papermill": {
     "duration": 0.024154,
     "end_time": "2022-09-14T17:30:03.334628",
     "exception": false,
     "start_time": "2022-09-14T17:30:03.310474",
     "status": "completed"
    },
    "tags": []
   },
   "outputs": [
    {
     "data": {
      "application/javascript": [
       "parent.postMessage({\"jupyterEvent\": \"custom.exercise_interaction\", \"data\": {\"outcomeType\": 1, \"valueTowardsCompletion\": 0.16666666666666666, \"interactionType\": 1, \"questionType\": 1, \"questionId\": \"2_BestRatingPerPrice\", \"learnToolsVersion\": \"0.3.4\", \"failureMessage\": \"\", \"exceptionClass\": \"\", \"trace\": \"\"}}, \"*\")"
      ],
      "text/plain": [
       "<IPython.core.display.Javascript object>"
      ]
     },
     "metadata": {},
     "output_type": "display_data"
    },
    {
     "data": {
      "text/markdown": [
       "<span style=\"color:#33cc33\">Correct</span>"
      ],
      "text/plain": [
       "Correct"
      ]
     },
     "metadata": {},
     "output_type": "display_data"
    }
   ],
   "source": [
    "best_rating_per_price = reviews.groupby('price')['points'].max().sort_index()\n",
    "\n",
    "# Check your answer\n",
    "q2.check()"
   ]
  },
  {
   "cell_type": "code",
   "execution_count": 5,
   "id": "070029df",
   "metadata": {
    "execution": {
     "iopub.execute_input": "2022-09-14T17:30:03.349863Z",
     "iopub.status.busy": "2022-09-14T17:30:03.349447Z",
     "iopub.status.idle": "2022-09-14T17:30:03.358103Z",
     "shell.execute_reply": "2022-09-14T17:30:03.357027Z"
    },
    "papermill": {
     "duration": 0.019003,
     "end_time": "2022-09-14T17:30:03.360337",
     "exception": false,
     "start_time": "2022-09-14T17:30:03.341334",
     "status": "completed"
    },
    "tags": []
   },
   "outputs": [
    {
     "data": {
      "application/javascript": [
       "parent.postMessage({\"jupyterEvent\": \"custom.exercise_interaction\", \"data\": {\"interactionType\": 3, \"questionType\": 1, \"questionId\": \"2_BestRatingPerPrice\", \"learnToolsVersion\": \"0.3.4\", \"valueTowardsCompletion\": 0.0, \"failureMessage\": \"\", \"exceptionClass\": \"\", \"trace\": \"\", \"outcomeType\": 4}}, \"*\")"
      ],
      "text/plain": [
       "<IPython.core.display.Javascript object>"
      ]
     },
     "metadata": {},
     "output_type": "display_data"
    },
    {
     "data": {
      "text/markdown": [
       "<span style=\"color:#33cc99\">Solution:</span> \n",
       "```python\n",
       "best_rating_per_price = reviews.groupby('price')['points'].max().sort_index()\n",
       "```"
      ],
      "text/plain": [
       "Solution: \n",
       "```python\n",
       "best_rating_per_price = reviews.groupby('price')['points'].max().sort_index()\n",
       "```"
      ]
     },
     "metadata": {},
     "output_type": "display_data"
    }
   ],
   "source": [
    "#q2.hint()\n",
    "q2.solution()"
   ]
  },
  {
   "cell_type": "markdown",
   "id": "fc8600d4",
   "metadata": {
    "papermill": {
     "duration": 0.006777,
     "end_time": "2022-09-14T17:30:03.373812",
     "exception": false,
     "start_time": "2022-09-14T17:30:03.367035",
     "status": "completed"
    },
    "tags": []
   },
   "source": [
    "## 3.\n",
    "What are the minimum and maximum prices for each `variety` of wine? Create a `DataFrame` whose index is the `variety` category from the dataset and whose values are the `min` and `max` values thereof."
   ]
  },
  {
   "cell_type": "code",
   "execution_count": 6,
   "id": "6b231ade",
   "metadata": {
    "execution": {
     "iopub.execute_input": "2022-09-14T17:30:03.389082Z",
     "iopub.status.busy": "2022-09-14T17:30:03.388674Z",
     "iopub.status.idle": "2022-09-14T17:30:03.413244Z",
     "shell.execute_reply": "2022-09-14T17:30:03.412115Z"
    },
    "papermill": {
     "duration": 0.034964,
     "end_time": "2022-09-14T17:30:03.415488",
     "exception": false,
     "start_time": "2022-09-14T17:30:03.380524",
     "status": "completed"
    },
    "tags": []
   },
   "outputs": [
    {
     "data": {
      "application/javascript": [
       "parent.postMessage({\"jupyterEvent\": \"custom.exercise_interaction\", \"data\": {\"outcomeType\": 1, \"valueTowardsCompletion\": 0.16666666666666666, \"interactionType\": 1, \"questionType\": 1, \"questionId\": \"3_PriceExtremes\", \"learnToolsVersion\": \"0.3.4\", \"failureMessage\": \"\", \"exceptionClass\": \"\", \"trace\": \"\"}}, \"*\")"
      ],
      "text/plain": [
       "<IPython.core.display.Javascript object>"
      ]
     },
     "metadata": {},
     "output_type": "display_data"
    },
    {
     "data": {
      "text/markdown": [
       "<span style=\"color:#33cc33\">Correct</span>"
      ],
      "text/plain": [
       "Correct"
      ]
     },
     "metadata": {},
     "output_type": "display_data"
    }
   ],
   "source": [
    "price_extremes = reviews.groupby('variety').price.agg([min, max])\n",
    "\n",
    "# Check your answer\n",
    "q3.check()"
   ]
  },
  {
   "cell_type": "code",
   "execution_count": 7,
   "id": "34884a18",
   "metadata": {
    "execution": {
     "iopub.execute_input": "2022-09-14T17:30:03.431715Z",
     "iopub.status.busy": "2022-09-14T17:30:03.431274Z",
     "iopub.status.idle": "2022-09-14T17:30:03.440243Z",
     "shell.execute_reply": "2022-09-14T17:30:03.439267Z"
    },
    "papermill": {
     "duration": 0.020013,
     "end_time": "2022-09-14T17:30:03.442393",
     "exception": false,
     "start_time": "2022-09-14T17:30:03.422380",
     "status": "completed"
    },
    "tags": []
   },
   "outputs": [
    {
     "data": {
      "application/javascript": [
       "parent.postMessage({\"jupyterEvent\": \"custom.exercise_interaction\", \"data\": {\"interactionType\": 3, \"questionType\": 1, \"questionId\": \"3_PriceExtremes\", \"learnToolsVersion\": \"0.3.4\", \"valueTowardsCompletion\": 0.0, \"failureMessage\": \"\", \"exceptionClass\": \"\", \"trace\": \"\", \"outcomeType\": 4}}, \"*\")"
      ],
      "text/plain": [
       "<IPython.core.display.Javascript object>"
      ]
     },
     "metadata": {},
     "output_type": "display_data"
    },
    {
     "data": {
      "text/markdown": [
       "<span style=\"color:#33cc99\">Solution:</span> \n",
       "```python\n",
       "price_extremes = reviews.groupby('variety').price.agg([min, max])\n",
       "```"
      ],
      "text/plain": [
       "Solution: \n",
       "```python\n",
       "price_extremes = reviews.groupby('variety').price.agg([min, max])\n",
       "```"
      ]
     },
     "metadata": {},
     "output_type": "display_data"
    }
   ],
   "source": [
    "#q3.hint()\n",
    "q3.solution()"
   ]
  },
  {
   "cell_type": "markdown",
   "id": "e59488f9",
   "metadata": {
    "papermill": {
     "duration": 0.006709,
     "end_time": "2022-09-14T17:30:03.456024",
     "exception": false,
     "start_time": "2022-09-14T17:30:03.449315",
     "status": "completed"
    },
    "tags": []
   },
   "source": [
    "## 4.\n",
    "What are the most expensive wine varieties? Create a variable `sorted_varieties` containing a copy of the dataframe from the previous question where varieties are sorted in descending order based on minimum price, then on maximum price (to break ties)."
   ]
  },
  {
   "cell_type": "code",
   "execution_count": 8,
   "id": "d27b2506",
   "metadata": {
    "execution": {
     "iopub.execute_input": "2022-09-14T17:30:03.471622Z",
     "iopub.status.busy": "2022-09-14T17:30:03.471218Z",
     "iopub.status.idle": "2022-09-14T17:30:03.482627Z",
     "shell.execute_reply": "2022-09-14T17:30:03.481665Z"
    },
    "papermill": {
     "duration": 0.021931,
     "end_time": "2022-09-14T17:30:03.484792",
     "exception": false,
     "start_time": "2022-09-14T17:30:03.462861",
     "status": "completed"
    },
    "tags": []
   },
   "outputs": [
    {
     "data": {
      "application/javascript": [
       "parent.postMessage({\"jupyterEvent\": \"custom.exercise_interaction\", \"data\": {\"outcomeType\": 1, \"valueTowardsCompletion\": 0.16666666666666666, \"interactionType\": 1, \"questionType\": 1, \"questionId\": \"4_SortedVarieties\", \"learnToolsVersion\": \"0.3.4\", \"failureMessage\": \"\", \"exceptionClass\": \"\", \"trace\": \"\"}}, \"*\")"
      ],
      "text/plain": [
       "<IPython.core.display.Javascript object>"
      ]
     },
     "metadata": {},
     "output_type": "display_data"
    },
    {
     "data": {
      "text/markdown": [
       "<span style=\"color:#33cc33\">Correct</span>"
      ],
      "text/plain": [
       "Correct"
      ]
     },
     "metadata": {},
     "output_type": "display_data"
    }
   ],
   "source": [
    "sorted_varieties = price_extremes.sort_values(by=['min', 'max'], ascending=False)\n",
    "\n",
    "\n",
    "# Check your answer\n",
    "q4.check()"
   ]
  },
  {
   "cell_type": "code",
   "execution_count": 9,
   "id": "5a0aba5b",
   "metadata": {
    "execution": {
     "iopub.execute_input": "2022-09-14T17:30:03.501434Z",
     "iopub.status.busy": "2022-09-14T17:30:03.500448Z",
     "iopub.status.idle": "2022-09-14T17:30:03.509451Z",
     "shell.execute_reply": "2022-09-14T17:30:03.508606Z"
    },
    "papermill": {
     "duration": 0.019607,
     "end_time": "2022-09-14T17:30:03.511605",
     "exception": false,
     "start_time": "2022-09-14T17:30:03.491998",
     "status": "completed"
    },
    "tags": []
   },
   "outputs": [
    {
     "data": {
      "application/javascript": [
       "parent.postMessage({\"jupyterEvent\": \"custom.exercise_interaction\", \"data\": {\"interactionType\": 3, \"questionType\": 1, \"questionId\": \"4_SortedVarieties\", \"learnToolsVersion\": \"0.3.4\", \"valueTowardsCompletion\": 0.0, \"failureMessage\": \"\", \"exceptionClass\": \"\", \"trace\": \"\", \"outcomeType\": 4}}, \"*\")"
      ],
      "text/plain": [
       "<IPython.core.display.Javascript object>"
      ]
     },
     "metadata": {},
     "output_type": "display_data"
    },
    {
     "data": {
      "text/markdown": [
       "<span style=\"color:#33cc99\">Solution:</span> \n",
       "```python\n",
       "sorted_varieties = price_extremes.sort_values(by=['min', 'max'], ascending=False)\n",
       "```"
      ],
      "text/plain": [
       "Solution: \n",
       "```python\n",
       "sorted_varieties = price_extremes.sort_values(by=['min', 'max'], ascending=False)\n",
       "```"
      ]
     },
     "metadata": {},
     "output_type": "display_data"
    }
   ],
   "source": [
    "#q4.hint()\n",
    "q4.solution()"
   ]
  },
  {
   "cell_type": "markdown",
   "id": "a329dcfe",
   "metadata": {
    "papermill": {
     "duration": 0.007042,
     "end_time": "2022-09-14T17:30:03.526055",
     "exception": false,
     "start_time": "2022-09-14T17:30:03.519013",
     "status": "completed"
    },
    "tags": []
   },
   "source": [
    "## 5.\n",
    "Create a `Series` whose index is reviewers and whose values is the average review score given out by that reviewer. Hint: you will need the `taster_name` and `points` columns."
   ]
  },
  {
   "cell_type": "code",
   "execution_count": 10,
   "id": "011d1c27",
   "metadata": {
    "execution": {
     "iopub.execute_input": "2022-09-14T17:30:03.542893Z",
     "iopub.status.busy": "2022-09-14T17:30:03.542138Z",
     "iopub.status.idle": "2022-09-14T17:30:03.563023Z",
     "shell.execute_reply": "2022-09-14T17:30:03.561768Z"
    },
    "papermill": {
     "duration": 0.032355,
     "end_time": "2022-09-14T17:30:03.565686",
     "exception": false,
     "start_time": "2022-09-14T17:30:03.533331",
     "status": "completed"
    },
    "tags": []
   },
   "outputs": [
    {
     "data": {
      "application/javascript": [
       "parent.postMessage({\"jupyterEvent\": \"custom.exercise_interaction\", \"data\": {\"outcomeType\": 1, \"valueTowardsCompletion\": 0.16666666666666666, \"interactionType\": 1, \"questionType\": 1, \"questionId\": \"5_ReviewerMeanRatings\", \"learnToolsVersion\": \"0.3.4\", \"failureMessage\": \"\", \"exceptionClass\": \"\", \"trace\": \"\"}}, \"*\")"
      ],
      "text/plain": [
       "<IPython.core.display.Javascript object>"
      ]
     },
     "metadata": {},
     "output_type": "display_data"
    },
    {
     "data": {
      "text/markdown": [
       "<span style=\"color:#33cc33\">Correct</span>"
      ],
      "text/plain": [
       "Correct"
      ]
     },
     "metadata": {},
     "output_type": "display_data"
    }
   ],
   "source": [
    "reviewer_mean_ratings = reviews.groupby('taster_name').points.mean()\n",
    "\n",
    "# Check your answer\n",
    "q5.check()"
   ]
  },
  {
   "cell_type": "code",
   "execution_count": 11,
   "id": "dee65680",
   "metadata": {
    "execution": {
     "iopub.execute_input": "2022-09-14T17:30:03.589007Z",
     "iopub.status.busy": "2022-09-14T17:30:03.588467Z",
     "iopub.status.idle": "2022-09-14T17:30:03.598100Z",
     "shell.execute_reply": "2022-09-14T17:30:03.597154Z"
    },
    "papermill": {
     "duration": 0.023389,
     "end_time": "2022-09-14T17:30:03.600136",
     "exception": false,
     "start_time": "2022-09-14T17:30:03.576747",
     "status": "completed"
    },
    "tags": []
   },
   "outputs": [
    {
     "data": {
      "application/javascript": [
       "parent.postMessage({\"jupyterEvent\": \"custom.exercise_interaction\", \"data\": {\"interactionType\": 3, \"questionType\": 1, \"questionId\": \"5_ReviewerMeanRatings\", \"learnToolsVersion\": \"0.3.4\", \"valueTowardsCompletion\": 0.0, \"failureMessage\": \"\", \"exceptionClass\": \"\", \"trace\": \"\", \"outcomeType\": 4}}, \"*\")"
      ],
      "text/plain": [
       "<IPython.core.display.Javascript object>"
      ]
     },
     "metadata": {},
     "output_type": "display_data"
    },
    {
     "data": {
      "text/markdown": [
       "<span style=\"color:#33cc99\">Solution:</span> \n",
       "```python\n",
       "reviewer_mean_ratings = reviews.groupby('taster_name').points.mean()\n",
       "```"
      ],
      "text/plain": [
       "Solution: \n",
       "```python\n",
       "reviewer_mean_ratings = reviews.groupby('taster_name').points.mean()\n",
       "```"
      ]
     },
     "metadata": {},
     "output_type": "display_data"
    }
   ],
   "source": [
    "#q5.hint()\n",
    "q5.solution()"
   ]
  },
  {
   "cell_type": "markdown",
   "id": "9757d376",
   "metadata": {
    "papermill": {
     "duration": 0.010809,
     "end_time": "2022-09-14T17:30:03.620797",
     "exception": false,
     "start_time": "2022-09-14T17:30:03.609988",
     "status": "completed"
    },
    "tags": []
   },
   "source": [
    "Are there significant differences in the average scores assigned by the various reviewers? Run the cell below to use the `describe()` method to see a summary of the range of values."
   ]
  },
  {
   "cell_type": "code",
   "execution_count": 12,
   "id": "9605e860",
   "metadata": {
    "execution": {
     "iopub.execute_input": "2022-09-14T17:30:03.639889Z",
     "iopub.status.busy": "2022-09-14T17:30:03.638825Z",
     "iopub.status.idle": "2022-09-14T17:30:03.653414Z",
     "shell.execute_reply": "2022-09-14T17:30:03.652333Z"
    },
    "papermill": {
     "duration": 0.026876,
     "end_time": "2022-09-14T17:30:03.655726",
     "exception": false,
     "start_time": "2022-09-14T17:30:03.628850",
     "status": "completed"
    },
    "tags": []
   },
   "outputs": [
    {
     "data": {
      "text/plain": [
       "count    19.000000\n",
       "mean     88.233026\n",
       "std       1.243610\n",
       "min      85.855422\n",
       "25%      87.323501\n",
       "50%      88.536235\n",
       "75%      88.975256\n",
       "max      90.562551\n",
       "Name: points, dtype: float64"
      ]
     },
     "execution_count": 12,
     "metadata": {},
     "output_type": "execute_result"
    }
   ],
   "source": [
    "reviewer_mean_ratings.describe()\n"
   ]
  },
  {
   "cell_type": "markdown",
   "id": "7ce0e540",
   "metadata": {
    "papermill": {
     "duration": 0.010049,
     "end_time": "2022-09-14T17:30:03.677204",
     "exception": false,
     "start_time": "2022-09-14T17:30:03.667155",
     "status": "completed"
    },
    "tags": []
   },
   "source": [
    "## 6.\n",
    "What combination of countries and varieties are most common? Create a `Series` whose index is a `MultiIndex`of `{country, variety}` pairs. For example, a pinot noir produced in the US should map to `{\"US\", \"Pinot Noir\"}`. Sort the values in the `Series` in descending order based on wine count."
   ]
  },
  {
   "cell_type": "code",
   "execution_count": 13,
   "id": "3be162f0",
   "metadata": {
    "execution": {
     "iopub.execute_input": "2022-09-14T17:30:03.696530Z",
     "iopub.status.busy": "2022-09-14T17:30:03.695481Z",
     "iopub.status.idle": "2022-09-14T17:30:03.730122Z",
     "shell.execute_reply": "2022-09-14T17:30:03.729116Z"
    },
    "papermill": {
     "duration": 0.046795,
     "end_time": "2022-09-14T17:30:03.732507",
     "exception": false,
     "start_time": "2022-09-14T17:30:03.685712",
     "status": "completed"
    },
    "tags": []
   },
   "outputs": [
    {
     "data": {
      "application/javascript": [
       "parent.postMessage({\"jupyterEvent\": \"custom.exercise_interaction\", \"data\": {\"outcomeType\": 1, \"valueTowardsCompletion\": 0.16666666666666666, \"interactionType\": 1, \"questionType\": 1, \"questionId\": \"6_GroupbyCountryVariety\", \"learnToolsVersion\": \"0.3.4\", \"failureMessage\": \"\", \"exceptionClass\": \"\", \"trace\": \"\"}}, \"*\")"
      ],
      "text/plain": [
       "<IPython.core.display.Javascript object>"
      ]
     },
     "metadata": {},
     "output_type": "display_data"
    },
    {
     "data": {
      "text/markdown": [
       "<span style=\"color:#33cc33\">Correct</span>"
      ],
      "text/plain": [
       "Correct"
      ]
     },
     "metadata": {},
     "output_type": "display_data"
    }
   ],
   "source": [
    "country_variety_counts = reviews.groupby(['country', 'variety']).size().sort_values(ascending=False)\n",
    "\n",
    "# Check your answer\n",
    "q6.check()"
   ]
  },
  {
   "cell_type": "code",
   "execution_count": 14,
   "id": "86d64ba0",
   "metadata": {
    "execution": {
     "iopub.execute_input": "2022-09-14T17:30:03.751631Z",
     "iopub.status.busy": "2022-09-14T17:30:03.750440Z",
     "iopub.status.idle": "2022-09-14T17:30:03.758809Z",
     "shell.execute_reply": "2022-09-14T17:30:03.757676Z"
    },
    "papermill": {
     "duration": 0.020424,
     "end_time": "2022-09-14T17:30:03.761372",
     "exception": false,
     "start_time": "2022-09-14T17:30:03.740948",
     "status": "completed"
    },
    "tags": []
   },
   "outputs": [
    {
     "data": {
      "application/javascript": [
       "parent.postMessage({\"jupyterEvent\": \"custom.exercise_interaction\", \"data\": {\"interactionType\": 3, \"questionType\": 1, \"questionId\": \"6_GroupbyCountryVariety\", \"learnToolsVersion\": \"0.3.4\", \"valueTowardsCompletion\": 0.0, \"failureMessage\": \"\", \"exceptionClass\": \"\", \"trace\": \"\", \"outcomeType\": 4}}, \"*\")"
      ],
      "text/plain": [
       "<IPython.core.display.Javascript object>"
      ]
     },
     "metadata": {},
     "output_type": "display_data"
    },
    {
     "data": {
      "text/markdown": [
       "<span style=\"color:#33cc99\">Solution:</span> \n",
       "```python\n",
       "country_variety_counts = reviews.groupby(['country', 'variety']).size().sort_values(ascending=False)\n",
       "```"
      ],
      "text/plain": [
       "Solution: \n",
       "```python\n",
       "country_variety_counts = reviews.groupby(['country', 'variety']).size().sort_values(ascending=False)\n",
       "```"
      ]
     },
     "metadata": {},
     "output_type": "display_data"
    }
   ],
   "source": [
    "#q6.hint()\n",
    "q6.solution()"
   ]
  },
  {
   "cell_type": "markdown",
   "id": "39f4fa50",
   "metadata": {
    "papermill": {
     "duration": 0.008394,
     "end_time": "2022-09-14T17:30:03.778479",
     "exception": false,
     "start_time": "2022-09-14T17:30:03.770085",
     "status": "completed"
    },
    "tags": []
   },
   "source": [
    "# Keep going\n",
    "\n",
    "Move on to the [**data types and missing data**](https://www.kaggle.com/residentmario/data-types-and-missing-values)."
   ]
  }
 ],
 "metadata": {
  "kernelspec": {
   "display_name": "Python 3",
   "language": "python",
   "name": "python3"
  },
  "language_info": {
   "codemirror_mode": {
    "name": "ipython",
    "version": 3
   },
   "file_extension": ".py",
   "mimetype": "text/x-python",
   "name": "python",
   "nbconvert_exporter": "python",
   "pygments_lexer": "ipython3",
   "version": "3.7.12"
  },
  "papermill": {
   "default_parameters": {},
   "duration": 12.83106,
   "end_time": "2022-09-14T17:30:04.410013",
   "environment_variables": {},
   "exception": null,
   "input_path": "__notebook__.ipynb",
   "output_path": "__notebook__.ipynb",
   "parameters": {},
   "start_time": "2022-09-14T17:29:51.578953",
   "version": "2.3.4"
  }
 },
 "nbformat": 4,
 "nbformat_minor": 5
}
